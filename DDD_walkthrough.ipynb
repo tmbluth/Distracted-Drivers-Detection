{
 "cells": [
  {
   "cell_type": "markdown",
   "metadata": {},
   "source": [
    "Working at an insurance company has opened my eyes to the balance needed to offer affordable services yet still stay afloat as a company. Competition drives us to tailor health insurance to each population so that healthy populations are not mostly paying to subsidize less healthy populations, though this often does occur. So how can we prevent unfair premiums? By understanding our population better.\n",
    "\n",
    "State Farm has different concerns, but the objective remains the same. They want to know how to detect differences between high risk populations and low risk ones. This allows them to cater their products so that both the company and the customer sees value in their relationship. What better way to know how risky a driver is than to see exactly how they drive?\n",
    "\n",
    "This project attempts to see if using Convolutional Neural Networks can allow us to detect if drivers are distracted while at the wheel or driving as they should. A camera was installed in multiple cars with multiple actors, all simulating normal activities while driving. Unfortunately normal activities usually include texting, operating the radio, eating/drinking, reaching behind to the back seat, doing hair and makeup, or talking to the passenger. My model below detects the probability of each of these states given the image.\n",
    "\n",
    "First let's clean and prepare our data to be ingested into the CNN."
   ]
  },
  {
   "cell_type": "code",
   "execution_count": 1,
   "metadata": {},
   "outputs": [
    {
     "data": {
      "text/plain": [
       "['/home/tmbluth/Documents/GitHub/Distracted-Drivers-Detection/train/c2/img_71100.jpg',\n",
       " '/home/tmbluth/Documents/GitHub/Distracted-Drivers-Detection/train/c2/img_3194.jpg',\n",
       " '/home/tmbluth/Documents/GitHub/Distracted-Drivers-Detection/train/c2/img_52526.jpg',\n",
       " '/home/tmbluth/Documents/GitHub/Distracted-Drivers-Detection/train/c2/img_40077.jpg',\n",
       " '/home/tmbluth/Documents/GitHub/Distracted-Drivers-Detection/train/c2/img_77393.jpg']"
      ]
     },
     "execution_count": 1,
     "metadata": {},
     "output_type": "execute_result"
    }
   ],
   "source": [
    "import time\n",
    "import os\n",
    "import glob\n",
    "import numpy as np\n",
    "from PIL import Image\n",
    "import h5py\n",
    "from sklearn.model_selection import train_test_split\n",
    "import matplotlib.pyplot as plt\n",
    "\n",
    "# Get each image filepath into a list\n",
    "img_list = glob.glob(\"/home/tmbluth/Documents/GitHub/Distracted-Drivers-Detection/train/**/*.jpg\")\n",
    "img_list[:5]"
   ]
  },
  {
   "cell_type": "markdown",
   "metadata": {},
   "source": [
    "Since my computer has 16GB of RAM and 4GB of GPU RAM I will resize the image to 1/16th the size by dividing the pixel height and width by 4. Also, these images have 3 channels of color (RGB) which do not inform the outcome variable. I also do not want the model to incorrectly learn from the colors since body position and focus is what the model should really be picking up. For this reason I convert each image to gray scale."
   ]
  },
  {
   "cell_type": "code",
   "execution_count": 2,
   "metadata": {
    "scrolled": false
   },
   "outputs": [
    {
     "name": "stdout",
     "output_type": "stream",
     "text": [
      "Load folder c0\n",
      "Load folder c1\n",
      "Load folder c2\n",
      "Load folder c3\n",
      "Load folder c4\n",
      "Load folder c5\n",
      "Load folder c6\n",
      "Load folder c7\n",
      "Load folder c8\n",
      "Load folder c9\n",
      "\n",
      "Loading and cleaning images took 190.51122403144836 seconds \n",
      "\n",
      "Number of train images: 22424\n"
     ]
    }
   ],
   "source": [
    "# Load in ALL train images and label them\n",
    "actual_images = []\n",
    "X = []\n",
    "y = []\n",
    "\n",
    "start = time.time()\n",
    "\n",
    "for j in range(10):\n",
    "    print('Load folder c{}'.format(j))\n",
    "    path = os.path.join('.', 'train', 'c' + str(j), '*.jpg')\n",
    "    img_list = glob.glob(path)\n",
    "    for file in img_list:\n",
    "        # Open each image and convert to black and white\n",
    "        img = Image.open(file).convert('L')\n",
    "        # Get image height and width to divide each by 2 (save memory)\n",
    "        height, width = img.size\n",
    "        # thumbnail is an in-place operation\n",
    "        img.thumbnail((height/4, width/4), Image.ANTIALIAS)\n",
    "        # Make each image into a numpy array divided by the max to get 0 to 1 normalization\n",
    "        img_data = np.array(img.getdata()) / 255\n",
    "        # Grow lists of actual images, image data, and labels\n",
    "        actual_images.append(img)\n",
    "        X.append(img_data)\n",
    "        y.append(j)\n",
    "# Combine list of images into numpy array\n",
    "X = np.array(X, dtype = 'float32')    \n",
    "\n",
    "end = time.time()\n",
    "\n",
    "print()\n",
    "print(\"Loading and cleaning images took %s\" % str(end - start), \"seconds\", '\\n')\n",
    "print(\"Number of train images: %s\" % len(X))"
   ]
  },
  {
   "cell_type": "code",
   "execution_count": 3,
   "metadata": {},
   "outputs": [
    {
     "name": "stdout",
     "output_type": "stream",
     "text": [
      "[0, 2, 4, 6]\n"
     ]
    },
    {
     "data": {
      "image/png": "[encoded data removed]",
      "text/plain": [
       "<PIL.Image.Image image mode=L size=160x120 at 0x7F54055B2898>"
      ]
     },
     "execution_count": 3,
     "metadata": {},
     "output_type": "execute_result"
    }
   ],
   "source": [
    "# Show an example of an image and some labels\n",
    "print(y[0:20000:5000])\n",
    "actual_images[0]"
   ]
  },
  {
   "cell_type": "code",
   "execution_count": 4,
   "metadata": {
    "collapsed": true
   },
   "outputs": [],
   "source": [
    "# Make sure to save both the cleaned inputs and the cleaned target\n",
    "X_h5 = h5py.File('X.h5', 'w')\n",
    "X_h5.create_dataset('X_h5', data=X)\n",
    "X_h5.close()\n",
    "\n",
    "y_h5 = h5py.File('y.h5', 'w')\n",
    "y_h5.create_dataset('y_h5', data=y)\n",
    "y_h5.close()"
   ]
  },
  {
   "cell_type": "markdown",
   "metadata": {},
   "source": [
    "Now with our images preprocessed and put into numeric format, we can move forward with dividing up the samples into test and train data We then also need to make sure the data shape is prepared in Tensorflow format and that the labels are dummy coded so that Keras can interpret the labels correctly."
   ]
  },
  {
   "cell_type": "code",
   "execution_count": 5,
   "metadata": {
    "scrolled": true
   },
   "outputs": [
    {
     "name": "stderr",
     "output_type": "stream",
     "text": [
      "Using TensorFlow backend.\n",
      "/home/tmbluth/anaconda3/lib/python3.6/site-packages/sklearn/model_selection/_split.py:2026: FutureWarning: From version 0.21, test_size will always complement train_size unless both are specified.\n",
      "  FutureWarning)\n"
     ]
    },
    {
     "name": "stdout",
     "output_type": "stream",
     "text": [
      " 'X' matrix/input \n",
      "Shape:  (17939, 160, 120, 1)\n",
      "[[ 0.16078432]\n",
      " [ 0.15686275]\n",
      " [ 0.16470589]\n",
      " [ 0.17647059]\n",
      " [ 0.18431373]] \n",
      "\n",
      " 'y' label/output \n",
      "Shape:  (17939, 10)\n",
      "[[0 0 0 ..., 0 0 0]\n",
      " [0 0 0 ..., 0 0 0]\n",
      " [0 0 0 ..., 0 0 0]\n",
      " ..., \n",
      " [0 0 0 ..., 0 0 0]\n",
      " [0 0 0 ..., 0 0 0]\n",
      " [0 0 1 ..., 0 0 0]]\n"
     ]
    }
   ],
   "source": [
    "from keras.models import Sequential, load_model\n",
    "from keras.optimizers import Adam\n",
    "from keras.callbacks import EarlyStopping, Callback\n",
    "from keras.layers import Conv2D, Dense, Dropout, BatchNormalization, MaxPooling2D, Activation, Flatten\n",
    "from keras.utils import to_categorical\n",
    "from keras import backend as K\n",
    "from sklearn.metrics import confusion_matrix, accuracy_score\n",
    "import pickle\n",
    "\n",
    "# This make sure the input shape is: (number of samples, width, height, channels)\n",
    "K.set_image_dim_ordering('tf')\n",
    "\n",
    "# Load in preprocessed data\n",
    "with h5py.File('X.h5', 'r') as hf:\n",
    "    X = hf['X_h5'][:]\n",
    "with h5py.File('y.h5', 'r') as hf:\n",
    "    y = hf['y_h5'][:]\n",
    "\n",
    "# Get train and test sets\n",
    "X_train, X_test, y_train, y_test = train_test_split(X, y, train_size = 0.8, shuffle = True)\n",
    "\n",
    "# Prepare images to correct shape for Keras model\n",
    "X_train = X_train.reshape(X_train.shape[0], 160, 120, 1)\n",
    "X_test= X_test.reshape(X_test.shape[0], 160, 120, 1)\n",
    "y_train = to_categorical(y_train).astype('int32')\n",
    "y_test = to_categorical(y_test).astype('int32')\n",
    "\n",
    "# Check data to see if everything is ok\n",
    "print(\" 'X' matrix/input \")\n",
    "print(\"Shape: \", str(X_train.shape))\n",
    "print(X_train[0][0][:5], '\\n')\n",
    "print(\" 'y' label/output \")\n",
    "print(\"Shape: \", str(y_train.shape))\n",
    "print(y_train)"
   ]
  },
  {
   "cell_type": "markdown",
   "metadata": {},
   "source": [
    "Alright, everything looks ready for modeling. Before doing so I want to cover a new learning rate scheduling technique. Below is a cosine annealing learning rate scheduler with restarts coded by from Jeremy Jordan, a fellow deep learning practitioner on GitHub. It lets you choose a learning rate range to work between and decreases over a set number of epochs. Once it reaches the minimum learning rate it does one last epoch, followed directly by the max learning rate. This decrease in learning rate over epochs starts slowly and then increases at the rate of the cosine function. This process repeats as many times as one likes, potentially over different numbers of epochs.  Here is an example image of the idea:\n",
    "\n",
    "![SGDR Scheduler](https://cdn-images-1.medium.com/max/1200/1*nBTMGa3WqhS2Iq4gCeCZww.png)\n",
    "\n",
    "This teqnique allows one to carefully find their way into a local minima and then jump out with the jump in learning rate if the local minima is not generalizable. More explanation of this teqnique can be found here: "
   ]
  },
  {
   "cell_type": "code",
   "execution_count": 8,
   "metadata": {
    "collapsed": true
   },
   "outputs": [],
   "source": [
    "class SGDRScheduler(Callback):\n",
    "    '''Cosine annealing learning rate scheduler with periodic restarts.\n",
    "    # Arguments\n",
    "        min_lr: The lower bound of the learning rate range for the experiment.\n",
    "        max_lr: The upper bound of the learning rate range for the experiment.\n",
    "        steps_per_epoch: Number of mini-batches in the dataset. Calculated as `np.ceil(epoch_size/batch_size)`. \n",
    "        lr_decay: Reduce the max_lr after the completion of each cycle.\n",
    "                  Ex. To reduce the max_lr by 20% after each cycle, set this value to 0.8.\n",
    "        cycle_length: Initial number of epochs in a cycle.\n",
    "        mult_factor: Scale epochs_to_restart after each full cycle completion.\n",
    "\n",
    "    # References\n",
    "        Blog post: jeremyjordan.me/nn-learning-rate\n",
    "        Original paper: http://arxiv.org/abs/1608.03983\n",
    "    '''\n",
    "    def __init__(self,\n",
    "                 min_lr,\n",
    "                 max_lr,\n",
    "                 steps_per_epoch,\n",
    "                 lr_decay=1,\n",
    "                 cycle_length=10,\n",
    "                 mult_factor=2):\n",
    "\n",
    "        self.min_lr = min_lr\n",
    "        self.max_lr = max_lr\n",
    "        self.lr_decay = lr_decay\n",
    "\n",
    "        self.batch_since_restart = 0\n",
    "        self.next_restart = cycle_length\n",
    "\n",
    "        self.steps_per_epoch = steps_per_epoch\n",
    "\n",
    "        self.cycle_length = cycle_length\n",
    "        self.mult_factor = mult_factor\n",
    "\n",
    "        self.history = {}\n",
    "\n",
    "    def clr(self):\n",
    "        '''Calculate the learning rate.'''\n",
    "        fraction_to_restart = self.batch_since_restart / (self.steps_per_epoch * self.cycle_length)\n",
    "        lr = self.min_lr + 0.5 * (self.max_lr - self.min_lr) * (1 + np.cos(fraction_to_restart * np.pi))\n",
    "        return lr\n",
    "\n",
    "    def on_train_begin(self, logs={}):\n",
    "        '''Initialize the learning rate to the minimum value at the start of training.'''\n",
    "        logs = logs or {}\n",
    "        K.set_value(self.model.optimizer.lr, self.max_lr)\n",
    "\n",
    "    def on_batch_end(self, batch, logs={}):\n",
    "        '''Record previous batch statistics and update the learning rate.'''\n",
    "        logs = logs or {}\n",
    "        self.history.setdefault('lr', []).append(K.get_value(self.model.optimizer.lr))\n",
    "        for k, v in logs.items():\n",
    "            self.history.setdefault(k, []).append(v)\n",
    "\n",
    "        self.batch_since_restart += 1\n",
    "        K.set_value(self.model.optimizer.lr, self.clr())\n",
    "\n",
    "    def on_epoch_end(self, epoch, logs={}):\n",
    "        '''Check for end of current cycle, apply restarts when necessary.'''\n",
    "        if epoch + 1 == self.next_restart:\n",
    "            self.batch_since_restart = 0\n",
    "            self.cycle_length = np.ceil(self.cycle_length * self.mult_factor)\n",
    "            self.next_restart += self.cycle_length\n",
    "            self.max_lr *= self.lr_decay\n",
    "            self.best_weights = self.model.get_weights()\n",
    "\n",
    "    def on_train_end(self, logs={}):\n",
    "        '''Set weights to the values from the end of the most recent cycle for best performance.'''\n",
    "        self.model.set_weights(self.best_weights)"
   ]
  },
  {
   "cell_type": "code",
   "execution_count": 9,
   "metadata": {},
   "outputs": [
    {
     "name": "stdout",
     "output_type": "stream",
     "text": [
      "Train on 14351 samples, validate on 3588 samples\n",
      "Epoch 1/15\n",
      "14351/14351 [==============================] - 259s 18ms/step - loss: 1.3662 - acc: 0.5201 - val_loss: 0.6982 - val_acc: 0.7506\n",
      "Epoch 2/15\n",
      "14351/14351 [==============================] - 255s 18ms/step - loss: 0.2772 - acc: 0.9131 - val_loss: 0.0985 - val_acc: 0.9719\n",
      "Epoch 3/15\n",
      "14351/14351 [==============================] - 256s 18ms/step - loss: 0.0969 - acc: 0.9695 - val_loss: 0.0492 - val_acc: 0.9858\n",
      "Epoch 4/15\n",
      "14351/14351 [==============================] - 254s 18ms/step - loss: 0.0524 - acc: 0.9820 - val_loss: 0.0263 - val_acc: 0.9914\n",
      "Epoch 5/15\n",
      "14351/14351 [==============================] - 254s 18ms/step - loss: 0.0211 - acc: 0.9945 - val_loss: 0.0185 - val_acc: 0.9930\n",
      "Epoch 6/15\n",
      "14351/14351 [==============================] - 254s 18ms/step - loss: 0.1418 - acc: 0.9532 - val_loss: 0.0978 - val_acc: 0.9685\n",
      "Epoch 7/15\n",
      "14351/14351 [==============================] - 255s 18ms/step - loss: 0.0661 - acc: 0.9781 - val_loss: 0.1202 - val_acc: 0.9660\n",
      "Epoch 8/15\n",
      "14351/14351 [==============================] - 256s 18ms/step - loss: 0.0500 - acc: 0.9839 - val_loss: 0.0398 - val_acc: 0.9880\n",
      "Epoch 9/15\n",
      "14351/14351 [==============================] - 255s 18ms/step - loss: 0.0388 - acc: 0.9876 - val_loss: 0.0343 - val_acc: 0.9902\n",
      "Epoch 10/15\n",
      "14351/14351 [==============================] - 256s 18ms/step - loss: 0.0185 - acc: 0.9941 - val_loss: 0.0283 - val_acc: 0.9911\n",
      "Epoch 11/15\n",
      "14351/14351 [==============================] - 255s 18ms/step - loss: 0.0157 - acc: 0.9944 - val_loss: 0.0244 - val_acc: 0.9941\n",
      "Epoch 12/15\n",
      "14351/14351 [==============================] - 255s 18ms/step - loss: 0.0160 - acc: 0.9951 - val_loss: 0.0236 - val_acc: 0.9933\n",
      "Epoch 13/15\n",
      "14351/14351 [==============================] - 254s 18ms/step - loss: 0.0101 - acc: 0.9967 - val_loss: 0.0122 - val_acc: 0.9964\n",
      "Epoch 14/15\n",
      "14351/14351 [==============================] - 255s 18ms/step - loss: 0.0043 - acc: 0.9990 - val_loss: 0.0182 - val_acc: 0.9936\n",
      "Epoch 15/15\n",
      "14351/14351 [==============================] - 255s 18ms/step - loss: 0.0039 - acc: 0.9987 - val_loss: 0.0117 - val_acc: 0.9969\n"
     ]
    },
    {
     "data": {
      "image/png": "[encoded data removed]",
      "text/plain": [
       "<matplotlib.figure.Figure at 0x7f525be23e48>"
      ]
     },
     "metadata": {},
     "output_type": "display_data"
    },
    {
     "data": {
      "image/png": "[encoded data removed]",
      "text/plain": [
       "<matplotlib.figure.Figure at 0x7f52c9aa1e10>"
      ]
     },
     "metadata": {},
     "output_type": "display_data"
    }
   ],
   "source": [
    "batch_size = 32\n",
    "\n",
    "# Use next line if not doing cosine annealing\n",
    "# early_stop = EarlyStopping(monitor = 'val_loss', patience = 3)\n",
    "\n",
    "schedule = SGDRScheduler(min_lr=1e-4,\n",
    "                         max_lr=1e-2,\n",
    "                         steps_per_epoch=np.ceil(X_train.shape[0]/batch_size),\n",
    "                         lr_decay=0.8,\n",
    "                         cycle_length=5,\n",
    "                         mult_factor=2)\n",
    "\n",
    "def DD_VGG():\n",
    "    model = Sequential()\n",
    "    # Use Batch Normalization for every conv and dense layers\n",
    "    model.add(Conv2D(64, kernel_size = (3,3), activation = 'relu', input_shape = (160, 120, 1)))\n",
    "    model.add(BatchNormalization())\n",
    "    model.add(Dropout(0.25))\n",
    "    model.add(Conv2D(64, kernel_size = (3,3), activation = 'relu'))\n",
    "    model.add(BatchNormalization())\n",
    "    model.add(MaxPooling2D(pool_size=(2,2)))\n",
    "    model.add(Conv2D(128, kernel_size = (3,3), activation = 'relu'))\n",
    "    model.add(BatchNormalization())\n",
    "    model.add(Dropout(0.25))\n",
    "    model.add(Conv2D(128, kernel_size = (3,3), activation = 'relu'))\n",
    "    model.add(BatchNormalization())\n",
    "    model.add(MaxPooling2D(pool_size=(2,2)))\n",
    "    model.add(Flatten())\n",
    "    model.add(Dense(64, activation = 'relu'))\n",
    "    model.add(BatchNormalization())\n",
    "    model.add(Dropout(0.33))\n",
    "    model.add(Dense(32, activation = 'relu'))\n",
    "    model.add(BatchNormalization())\n",
    "    model.add(Dense(10, activation = 'softmax')) # Sigmoid for log loss?\n",
    "    model.compile(loss= 'categorical_crossentropy' , optimizer= 'adam' , metrics=[ 'accuracy' ])\n",
    "    return model\n",
    "\n",
    "driver_model = DD_VGG()\n",
    "driver_hist = driver_model.fit(X_train, y_train, epochs=15, batch_size=batch_size, verbose=1,\n",
    "                               validation_split=0.2, callbacks=[schedule])\n",
    "\n",
    "def plot_model(model_hist, train_metric, val_metric):\n",
    "    plt.plot(model_hist[train_metric])\n",
    "    plt.plot(model_hist[val_metric])\n",
    "    plt.ylabel('Model ' + str(train_metric))\n",
    "    plt.xlabel('Epoch')\n",
    "    plt.legend(['Train', 'Val'], loc='upper left')\n",
    "    plt.show()\n",
    "\n",
    "plot_model(driver_hist.history, 'loss', 'val_loss')\n",
    "plot_model(driver_hist.history, 'acc', 'val_acc')"
   ]
  },
  {
   "cell_type": "code",
   "execution_count": 10,
   "metadata": {
    "collapsed": true
   },
   "outputs": [],
   "source": [
    "# Save model when retraining\n",
    "driver_model.save('./driver_model.h5')\n",
    "#driver_model = load_model('./driver_model.h5')\n",
    "\n",
    "# Save model history\n",
    "with open('./trainHistoryDict', 'wb') as history:\n",
    "        pickle.dump(driver_hist.history, history)"
   ]
  },
  {
   "cell_type": "code",
   "execution_count": 11,
   "metadata": {},
   "outputs": [
    {
     "name": "stdout",
     "output_type": "stream",
     "text": [
      "[[501   1   0   0   1   0   0   0   0   0]\n",
      " [  0 440   0   0   0   0   0   0   1   1]\n",
      " [  0   1 458   0   0   0   2   0   0   0]\n",
      " [  1   0   0 458   2   0   0   0   0   0]\n",
      " [  1   0   0   0 458   0   1   0   0   0]\n",
      " [  1   0   0   0   0 477   0   0   0   0]\n",
      " [  3   0   0   0   0   0 438   0   0   0]\n",
      " [  0   0   0   0   0   0   0 421   0   0]\n",
      " [  0   0   0   0   1   0   0   0 381   4]\n",
      " [  0   0   0   0   1   0   1   1   2 427]]\n",
      "Test set accuracy is: 0.994202898551\n"
     ]
    }
   ],
   "source": [
    "# Get predictions and make them into vector of 0 to 9\n",
    "test_pred = driver_model.predict(X_test)\n",
    "test_pred2 = np.argmax(test_pred, axis = 1)\n",
    "\n",
    "# Change dummy code matrix back to vector of 0 to 9\n",
    "y_test2 = np.argmax(y_test, axis = 1)\n",
    "\n",
    "# Get performance\n",
    "print(confusion_matrix(y_test2, test_pred2))\n",
    "print(\"Test set accuracy is: %s\" % accuracy_score(y_test2, test_pred2))"
   ]
  },
  {
   "cell_type": "code",
   "execution_count": null,
   "metadata": {
    "scrolled": true
   },
   "outputs": [
    {
     "name": "stdout",
     "output_type": "stream",
     "text": [
      "Once deleted, variables cannot be recovered. Proceed (y/[n])? y\n",
      "\n",
      "Number of test images: 79726\n"
     ]
    }
   ],
   "source": [
    "# Free up memory for submission data\n",
    "%reset\n",
    "\n",
    "# Re-import needed modules\n",
    "import glob\n",
    "import os\n",
    "import numpy as np\n",
    "from PIL import Image\n",
    "from keras.models import load_model\n",
    "import pandas as pd\n",
    "\n",
    "submission_data = []\n",
    "filenames = []\n",
    "\n",
    "img_list = sorted(glob.glob(\"/home/tmbluth/Documents/GitHub/Distracted-Drivers-Detection/test/*.jpg\"))\n",
    "for file in img_list:\n",
    "     # Open each image and convert to black and white\n",
    "    img = Image.open(file)\n",
    "    filenames.append(os.path.basename(img.filename))\n",
    "    img = img.convert('L')\n",
    "    # Get image height and width to divide each by 4 (save memory)\n",
    "    # thumbnail is an in-place operation\n",
    "    img.thumbnail((img.size[0]/4, img.size[1]/4), Image.ANTIALIAS)\n",
    "    # Make into numpy array divided by the max to get 0 to 1 normalization\n",
    "    img_data = np.array(img.getdata()) / 255\n",
    "    submission_data.append(img_data)\n",
    "\n",
    "print()\n",
    "print(\"Number of test images: %s\" % len(submission_data))\n",
    "\n",
    "# Make list into numpy array and reshape to feed into model\n",
    "submission_data = np.array(submission_data, dtype = 'float32')\n",
    "submission_data = submission_data.reshape(submission_data.shape[0], 160, 120, 1)"
   ]
  },
  {
   "cell_type": "code",
   "execution_count": null,
   "metadata": {
    "collapsed": true
   },
   "outputs": [],
   "source": [
    "# Load in model and use it to predict\n",
    "driver_model = load_model('./driver_model.h5')\n",
    "\n",
    "# Get log probabilities\n",
    "kaggle_log_probs = driver_model.predict(submission_data)\n",
    "kaggle_log_probs = pd.DataFrame(kaggle_log_probs, index = filenames, columns = ['c0', 'c1', 'c2', 'c3', 'c4', 'c5', 'c6', 'c7', 'c8', 'c9'])\n",
    "\n",
    "kaggle_log_probs.to_csv('./DD_kaggle_submission.csv', sep=',', encoding='utf-8')"
   ]
  },
  {
   "cell_type": "code",
   "execution_count": 2,
   "metadata": {},
   "outputs": [
    {
     "name": "stdout",
     "output_type": "stream",
     "text": [
      "              img    c0   c1    c2    c3    c4    c5    c6    c7    c8   c9\n",
      "0       img_1.jpg  0.00  0.0  0.09  0.00  0.00  0.91  0.00  0.00  0.00  0.0\n",
      "1      img_10.jpg  0.19  0.0  0.00  0.01  0.78  0.02  0.00  0.01  0.00  0.0\n",
      "2     img_100.jpg  0.00  1.0  0.00  0.00  0.00  0.00  0.00  0.00  0.00  0.0\n",
      "3    img_1000.jpg  0.00  0.0  0.00  0.00  0.00  0.00  0.00  0.00  1.00  0.0\n",
      "4  img_100000.jpg  0.01  0.0  0.00  0.97  0.00  0.01  0.00  0.00  0.00  0.0\n",
      "5  img_100001.jpg  0.00  0.0  0.00  0.26  0.04  0.50  0.00  0.00  0.19  0.0\n",
      "6  img_100002.jpg  0.00  0.0  0.00  0.00  0.00  0.00  1.00  0.00  0.00  0.0\n",
      "7  img_100003.jpg  0.00  0.0  0.00  0.00  0.00  0.00  0.00  0.00  1.00  0.0\n",
      "8  img_100004.jpg  0.01  0.0  0.00  0.00  0.19  0.00  0.64  0.00  0.16  0.0\n",
      "9  img_100005.jpg  0.00  0.0  0.00  0.00  0.00  0.00  0.00  1.00  0.00  0.0\n",
      "<class 'pandas.core.frame.DataFrame'>\n",
      "RangeIndex: 79726 entries, 0 to 79725\n",
      "Data columns (total 11 columns):\n",
      "img    79726 non-null object\n",
      "c0     79726 non-null float64\n",
      "c1     79726 non-null float64\n",
      "c2     79726 non-null float64\n",
      "c3     79726 non-null float64\n",
      "c4     79726 non-null float64\n",
      "c5     79726 non-null float64\n",
      "c6     79726 non-null float64\n",
      "c7     79726 non-null float64\n",
      "c8     79726 non-null float64\n",
      "c9     79726 non-null float64\n",
      "dtypes: float64(10), object(1)\n",
      "memory usage: 6.7+ MB\n",
      "None\n"
     ]
    }
   ],
   "source": [
    "import pandas as pd\n",
    "kaggle_submission = pd.read_csv('./DD_kaggle_submission.csv')\n",
    "\n",
    "print(kaggle_submission.head(10))\n",
    "print(kaggle_submission.info())"
   ]
  }
 ],
 "metadata": {
  "kernelspec": {
   "display_name": "Python 3",
   "language": "python",
   "name": "python3"
  },
  "language_info": {
   "codemirror_mode": {
    "name": "ipython",
    "version": 3
   },
   "file_extension": ".py",
   "mimetype": "text/x-python",
   "name": "python",
   "nbconvert_exporter": "python",
   "pygments_lexer": "ipython3",
   "version": "3.6.3"
  }
 },
 "nbformat": 4,
 "nbformat_minor": 2
}
