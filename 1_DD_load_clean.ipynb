{
 "cells": [
  {
   "cell_type": "code",
   "execution_count": 1,
   "metadata": {
    "scrolled": true
   },
   "outputs": [
    {
     "data": {
      "text/plain": [
       "['/home/tmbluth/Documents/GitHub/Distracted_Drivers/train/c2/img_71100.jpg',\n",
       " '/home/tmbluth/Documents/GitHub/Distracted_Drivers/train/c2/img_3194.jpg',\n",
       " '/home/tmbluth/Documents/GitHub/Distracted_Drivers/train/c2/img_52526.jpg',\n",
       " '/home/tmbluth/Documents/GitHub/Distracted_Drivers/train/c2/img_40077.jpg',\n",
       " '/home/tmbluth/Documents/GitHub/Distracted_Drivers/train/c2/img_77393.jpg',\n",
       " '/home/tmbluth/Documents/GitHub/Distracted_Drivers/train/c2/img_97629.jpg',\n",
       " '/home/tmbluth/Documents/GitHub/Distracted_Drivers/train/c2/img_82912.jpg',\n",
       " '/home/tmbluth/Documents/GitHub/Distracted_Drivers/train/c2/img_84503.jpg',\n",
       " '/home/tmbluth/Documents/GitHub/Distracted_Drivers/train/c2/img_59106.jpg',\n",
       " '/home/tmbluth/Documents/GitHub/Distracted_Drivers/train/c2/img_51544.jpg']"
      ]
     },
     "execution_count": 1,
     "metadata": {},
     "output_type": "execute_result"
    }
   ],
   "source": [
    "import time\n",
    "import os\n",
    "import glob\n",
    "import numpy as np\n",
    "from PIL import Image\n",
    "import h5py\n",
    "from sklearn.model_selection import train_test_split\n",
    "\n",
    "img_list = glob.glob(\"/home/tmbluth/Documents/GitHub/Distracted_Drivers/train/**/*.jpg\")\n",
    "img_list[:10]"
   ]
  },
  {
   "cell_type": "code",
   "execution_count": 2,
   "metadata": {
    "scrolled": true
   },
   "outputs": [
    {
     "name": "stdout",
     "output_type": "stream",
     "text": [
      "Load folder c0\n",
      "Load folder c1\n",
      "Load folder c2\n",
      "Load folder c3\n",
      "Load folder c4\n",
      "Load folder c5\n",
      "Load folder c6\n",
      "Load folder c7\n",
      "Load folder c8\n",
      "Load folder c9\n",
      "Number of train images: 22424\n"
     ]
    }
   ],
   "source": [
    "# Load in ALL train images and label them\n",
    "X = []\n",
    "y = []\n",
    "for j in range(10):\n",
    "    print('Load folder c{}'.format(j))\n",
    "    path = os.path.join('.', 'train', 'c' + str(j), '*.jpg')\n",
    "    img_list = glob.glob(path)\n",
    "    for file in img_list:\n",
    "        # Open each image and convert to black and white\n",
    "        img = Image.open(file).convert('L')\n",
    "        # Get image height and width to divide each by 2 (save memory)\n",
    "        height, width = img.size\n",
    "        # thumbnail is an in-place operation\n",
    "        img.thumbnail((height/4, width/4), Image.ANTIALIAS)\n",
    "        # Make into numpy array divided by the max to get 0 to 1 normalization\n",
    "        img = np.array(img.getdata()) / 255\n",
    "        X.append(img)\n",
    "        y.append(j)\n",
    "\n",
    "print(\"Number of train images: %s\" % len(X))\n",
    "\n",
    "X = np.array(X, dtype = 'float32')\n",
    "X = X.reshape(X.shape[0], 160, 120, 1)\n",
    "y = np.array(y, dtype = 'int32')\n",
    "y = y.reshape(y.shape[0], 160, 120, 1)"
   ]
  },
  {
   "cell_type": "code",
   "execution_count": 3,
   "metadata": {
    "collapsed": true
   },
   "outputs": [],
   "source": [
    "X_h5 = h5py.File('X.h5', 'w')\n",
    "X_h5.create_dataset('X_h5', data=X)\n",
    "X_h5.close()\n",
    "\n",
    "y_h5 = h5py.File('y.h5', 'w')\n",
    "y_h5.create_dataset('y_h5', data=y)\n",
    "y_h5.close()"
   ]
  }
 ],
 "metadata": {
  "kernelspec": {
   "display_name": "Python 3",
   "language": "python",
   "name": "python3"
  },
  "language_info": {
   "codemirror_mode": {
    "name": "ipython",
    "version": 3
   },
   "file_extension": ".py",
   "mimetype": "text/x-python",
   "name": "python",
   "nbconvert_exporter": "python",
   "pygments_lexer": "ipython3",
   "version": "3.6.3"
  }
 },
 "nbformat": 4,
 "nbformat_minor": 2
}
